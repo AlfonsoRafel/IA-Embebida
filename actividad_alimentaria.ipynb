{
 "cells": [
  {
   "cell_type": "code",
   "execution_count": 4,
   "metadata": {},
   "outputs": [],
   "source": [
    "import librosa\n",
    "import numpy as np\n",
    "import pandas as pd\n",
    "import matplotlib.pyplot as plt\n",
    "import scipy\n",
    "from os.path import join\n",
    "from scipy import signal\n",
    "import gc\n",
    "gc.collect()\n",
    "from pathlib import Path\n",
    "import ffmpeg"
   ]
  },
  {
   "cell_type": "markdown",
   "metadata": {},
   "source": [
    "### Lectura de datos"
   ]
  },
  {
   "cell_type": "code",
   "execution_count": 5,
   "metadata": {},
   "outputs": [],
   "source": [
    "path = './data/data_actalim'\n",
    "file = 'actividad_alimentaria.wav'\n",
    "labels = 'actividad_alimentaria.txt'"
   ]
  },
  {
   "cell_type": "code",
   "execution_count": 6,
   "metadata": {},
   "outputs": [],
   "source": [
    "data, sr = librosa.load(join(path, file), offset=0.0, duration=60.0)"
   ]
  },
  {
   "cell_type": "markdown",
   "metadata": {},
   "source": [
    "### Extraccion de features"
   ]
  },
  {
   "cell_type": "code",
   "execution_count": 7,
   "metadata": {},
   "outputs": [
    {
     "name": "stderr",
     "output_type": "stream",
     "text": [
      "/tmp/ipykernel_9902/3876098096.py:5: FutureWarning: The default value of regex will change from True to False in a future version.\n",
      "  predictions.name = predictions.name.str.replace('.wav', '')\n"
     ]
    }
   ],
   "source": [
    "import pandas as pd\n",
    "pred_dir = './predict/classification/out.csv'\n",
    "columns=['name','classes']\n",
    "predictions = pd.read_csv(pred_dir, sep=',', header=0, names = columns)\n",
    "predictions.name = predictions.name.str.replace('.wav', '')\n",
    "predictions.name = predictions.name.astype('int32')\n",
    "predictions.sort_values(by=['name'], inplace=True)"
   ]
  },
  {
   "cell_type": "code",
   "execution_count": 8,
   "metadata": {},
   "outputs": [],
   "source": [
    "total_events = len(predictions.classes)\n",
    "perc_bite = len(np.where(predictions.classes == 0)[0])/total_events\n",
    "perc_chew = len(np.where(predictions.classes == 1)[0])/total_events\n",
    "perc_chewbite = len(np.where(predictions.classes == 2)[0])/total_events"
   ]
  },
  {
   "cell_type": "markdown",
   "metadata": {},
   "source": [
    "### Read part of .wav and get label "
   ]
  },
  {
   "cell_type": "code",
   "execution_count": 9,
   "metadata": {},
   "outputs": [
    {
     "data": {
      "text/html": [
       "<div>\n",
       "<style scoped>\n",
       "    .dataframe tbody tr th:only-of-type {\n",
       "        vertical-align: middle;\n",
       "    }\n",
       "\n",
       "    .dataframe tbody tr th {\n",
       "        vertical-align: top;\n",
       "    }\n",
       "\n",
       "    .dataframe thead th {\n",
       "        text-align: right;\n",
       "    }\n",
       "</style>\n",
       "<table border=\"1\" class=\"dataframe\">\n",
       "  <thead>\n",
       "    <tr style=\"text-align: right;\">\n",
       "      <th></th>\n",
       "      <th>start</th>\n",
       "      <th>end</th>\n",
       "      <th>classes</th>\n",
       "    </tr>\n",
       "  </thead>\n",
       "  <tbody>\n",
       "    <tr>\n",
       "      <th>0</th>\n",
       "      <td>1180,948976</td>\n",
       "      <td>3415,667808</td>\n",
       "      <td>Rumination</td>\n",
       "    </tr>\n",
       "    <tr>\n",
       "      <th>1</th>\n",
       "      <td>6008,459551</td>\n",
       "      <td>13633,445689</td>\n",
       "      <td>Grazing</td>\n",
       "    </tr>\n",
       "    <tr>\n",
       "      <th>2</th>\n",
       "      <td>13674,043389</td>\n",
       "      <td>16493,738166</td>\n",
       "      <td>Rumination</td>\n",
       "    </tr>\n",
       "    <tr>\n",
       "      <th>3</th>\n",
       "      <td>17748,576156</td>\n",
       "      <td>21838,471837</td>\n",
       "      <td>Rumination</td>\n",
       "    </tr>\n",
       "    <tr>\n",
       "      <th>4</th>\n",
       "      <td>21823,108923</td>\n",
       "      <td>21838,471837</td>\n",
       "      <td>End</td>\n",
       "    </tr>\n",
       "  </tbody>\n",
       "</table>\n",
       "</div>"
      ],
      "text/plain": [
       "          start           end     classes\n",
       "0   1180,948976   3415,667808  Rumination\n",
       "1   6008,459551  13633,445689     Grazing\n",
       "2  13674,043389  16493,738166  Rumination\n",
       "3  17748,576156  21838,471837  Rumination\n",
       "4  21823,108923  21838,471837         End"
      ]
     },
     "execution_count": 9,
     "metadata": {},
     "output_type": "execute_result"
    }
   ],
   "source": [
    "import pandas as pd\n",
    "labels_dir = './data/data_actalim/actividad_alimentaria.txt'\n",
    "columns=['start', 'end','classes']\n",
    "predictions = pd.read_csv(labels_dir, sep='\\t', header=None, names = columns)\n",
    "predictions"
   ]
  },
  {
   "cell_type": "code",
   "execution_count": 10,
   "metadata": {},
   "outputs": [],
   "source": [
    "predictions.start= predictions.start.str.replace(',', '.')\n",
    "predictions.end= predictions.end.str.replace(',', '.')\n",
    "predictions.start = predictions.start.astype('float')\n",
    "predictions.end = predictions.end.astype('float')"
   ]
  },
  {
   "cell_type": "code",
   "execution_count": 11,
   "metadata": {},
   "outputs": [],
   "source": [
    "Ts = 1/sr\n",
    "N = data.shape[0]  \n",
    "t = np.arange(0,Ts*N,Ts) "
   ]
  },
  {
   "cell_type": "code",
   "execution_count": 12,
   "metadata": {},
   "outputs": [
    {
     "name": "stderr",
     "output_type": "stream",
     "text": [
      "/tmp/ipykernel_9902/2756848003.py:4: DeprecationWarning: `np.int` is a deprecated alias for the builtin `int`. To silence this warning, use `int` by itself. Doing this will not modify any behavior and is safe. When replacing `np.int`, you may wish to use e.g. `np.int64` or `np.int32` to specify the precision. If you wish to review your current use, check the release note link for additional information.\n",
      "Deprecated in NumPy 1.20; for more details and guidance: https://numpy.org/devdocs/release/1.20.0-notes.html#deprecations\n",
      "  steps = np.int(duration/duration_step)\n"
     ]
    },
    {
     "name": "stdout",
     "output_type": "stream",
     "text": [
      "Offset:  1440.0\n",
      "Len data:  3969000\n",
      "Sr:  22050\n",
      "Start:  1440.0\n",
      "End:  1619.9999549553168\n",
      "Class:  Rumination\n"
     ]
    }
   ],
   "source": [
    "offset = 0\n",
    "duration_step = 3 * 60.0\n",
    "duration = librosa.get_duration(filename=join(path, file))\n",
    "steps = np.int(duration/duration_step)\n",
    "for i in range(8,9):\n",
    "    offset = i * duration_step\n",
    "    data, sr = librosa.load(join(path, file), offset=offset, duration=duration_step)\n",
    "    Ts = 1/sr\n",
    "    N = data.shape[0]  \n",
    "    print('Offset: ', offset)\n",
    "    t = np.arange(offset,Ts*N + i * duration_step,Ts)\n",
    "    print('Len data: ', len(data))\n",
    "    print('Sr: ', sr)\n",
    "    print('Start: ', t[0])\n",
    "    print('End: ', t[-1]) \n",
    "    for j in range(0, len(predictions.classes)):\n",
    "        if (t[0]>= predictions.start[j]) & (t[0]< predictions.end[j]):\n",
    "            part_class = predictions.classes[j]\n",
    "            print('Class: ', part_class)"
   ]
  },
  {
   "cell_type": "code",
   "execution_count": 13,
   "metadata": {},
   "outputs": [
    {
     "name": "stderr",
     "output_type": "stream",
     "text": [
      "/tmp/ipykernel_9902/476596591.py:5: DeprecationWarning: `np.int` is a deprecated alias for the builtin `int`. To silence this warning, use `int` by itself. Doing this will not modify any behavior and is safe. When replacing `np.int`, you may wish to use e.g. `np.int64` or `np.int32` to specify the precision. If you wish to review your current use, check the release note link for additional information.\n",
      "Deprecated in NumPy 1.20; for more details and guidance: https://numpy.org/devdocs/release/1.20.0-notes.html#deprecations\n",
      "  steps = np.int(duration/duration_step)\n"
     ]
    },
    {
     "name": "stdout",
     "output_type": "stream",
     "text": [
      "Offset:  18000.0\n",
      "Len data:  3969000\n",
      "Sr:  22050\n",
      "Start:  18000.0\n",
      "End:  18179.999951345533\n",
      "Class:  Rumination\n",
      "Events detected and saved\n",
      "Event List:  [(0.5689307708308642, 1.2649434691633608), (1.4240781631211137, 2.1200908614536105), (2.875007868336534, 3.5710205666690302), (3.750518072418166, 4.4465307707506625), (4.5311983445270085, 5.227211042859506), (5.276912630241295, 5.972925328573792), (6.044214217542883, 6.74022691587538), (6.877094036136986, 7.573106734469484), (7.7221280497424285, 8.418140748074926), (8.54430492049073, 9.240317618823225), (10.01759290235014, 10.713605600682635), (10.833828730014538, 11.529841428347034), (11.60103961436828, 12.297052312700776), (12.402853673325197, 13.098866371657692), (14.00303507922089, 14.699047777553385), (14.784259569016807, 15.480272267349303), (16.359089500989594, 17.05510219932209), (17.19051807241817, 17.886530770750664), (17.92711671187395, 18.623129410206445), (18.75546138307576, 19.451474081408257), (19.514690408019074, 20.21070310635157), (20.34480378670388, 21.040816485036377), (21.12997385473109, 21.825986553063586), (22.114554353597303, 22.810567051929798), (23.593511269697075, 24.28952396802957), (24.449248231148328, 25.145260929480823), (25.48140242615966, 26.177415124492157), (27.050109909152862, 27.746122607485358), (27.93047272094424, 28.626485419276737), (29.39337521527531, 30.089387913607805), (30.195325328653993, 30.89133802698649), (31.01868133772429, 31.714694036056784), (31.88171988647712, 32.57773258480962), (32.60335253953835, 33.299365237870845), (33.38362464838188, 34.07963734671438), (34.19609630371069, 34.892109002043185), (35.14747952366533, 35.84349222199783), (35.95178791368801, 36.647800612020504), (36.68072215405082, 37.376734852383315), (37.418318525932904, 38.1143312242654), (38.870518072418164, 39.56653077075066), (39.815688140445374, 40.51170083877787), (40.57918020393744, 41.275192902269936), (41.53069947831386, 42.22671217664636), (42.361130317316125, 43.05714301564862), (43.112649591692545, 43.80866229002504), (43.994690408019075, 44.69070310635157), (44.73020061210071, 45.426213310433205), (46.14176523795104, 46.83777793628354), (47.487388820717484, 48.18340151904998), (48.611787913688005, 49.3078006120205), (50.21527997718007, 50.91129267551256), (54.62557476176057, 55.32158746009306), (56.168477256091634, 56.86448995442413), (57.07759290235015, 57.77360560068264), (57.94938428557009, 58.645396983902586), (58.67668587287168, 59.372698571204175), (59.45228677990116, 60.14829947823365), (60.243715351329726, 60.93972804966222), (61.04915752820048, 61.74517022653298), (61.76929358262225, 62.46530628095474), (63.348522607565556, 64.04453530589805), (64.10752487513925, 64.80353757347176), (64.89165185926623, 65.58766455759874), (65.79301240348391, 66.48902510181642), (66.6213117232118, 67.31732442154431), (67.40480378670388, 68.10081648503639), (68.39600560076283, 69.09201829909534), (69.20199199532065, 69.89800469365316), (70.65527997718006, 71.35129267551257), (71.63745684792836, 72.33346954626087), (72.42298972774695, 73.11900242607946), (73.16498519259956, 73.86099789093207), (73.95332986380139, 74.6493425621339), (74.72920287967439, 75.4252155780069), (76.23836387740683, 76.93437657573934), (77.08253621300773, 77.77854891134024), (78.07677657581952, 78.77278927415203), (79.92897612230477, 80.62498882063728), (82.11668587287167, 82.81269857120418), (84.22734346924355, 84.92335616757606), (85.1468446030304, 85.84285730136291), (85.89967907015058, 86.59569176848309), (86.78716206334786, 87.48317476168037), (87.5660282764998, 88.2620409748323), (88.3375021994023, 89.0335148977348), (89.1921507254794, 89.8881634238119), (90.58448632638641, 91.28049902471892), (91.50820514724809, 92.2042178455806), (92.90611897944764, 93.60213167778015), (93.74335253953834, 94.43936523787085), (94.50874936493516, 95.20476206326767), (96.034146190332, 96.7301588886645), (96.99777430824581, 97.69378700657832), (98.44444097491248, 99.14045367324499), (99.21260424021862, 99.90861693855113), (100.03745684792837, 100.73346954626088), (100.82008723341589, 101.5160999317484), (101.62711671187394, 102.32312941020645), (107.33541603160182, 108.03142872993433), (108.36226410416418, 109.05827680249669), (109.24235480711202, 109.93836750544453), (109.97137975042268, 110.6673924487552), (110.81695798171522, 111.51297068004773), (111.55995117899411, 112.25596387732662), (112.3102006121007, 113.00621331043321), (113.07142510189662, 113.76743780022913), (113.8250305440735, 114.52104324240601), (114.77709403613699, 115.4731067344695), (115.60244551005988, 116.29845820839239), (116.94203734679458, 117.63805004512709), (117.85927090688529, 118.5552836052178), (119.29664052139776, 119.99265321973027), (120.10484913817781, 120.80086183651032), (120.92072215405082, 121.61673485238333), (121.89110764157915, 122.58712033991166), (122.69664052139775, 123.39265321973026), (123.53686727876736, 124.23287997709987), (124.92548405881271, 125.62149675714522), (126.4789080950939, 127.17492079342641), (127.33786501119367, 128.03387770952617), (128.31224142842726, 129.00825412675974), (129.08453167786035, 129.78054437619284), (129.9650305440735, 130.66104324240598), (130.7828536733252, 131.4788663716577), (131.46575616765628, 132.16176886598876), (132.1652119499692, 132.8612246483017), (133.6955520860236, 134.3915647843561), (134.48113031731611, 135.1771430156486), (135.25641376402814, 135.95242646236062), (136.15092623568347, 136.84693893401595), (136.94022328783768, 137.63623598617016), (138.2876155780871, 138.98362827641958), (139.26992850325718, 139.96594120158966), (140.8642142175429, 141.56022691587538), (141.67201467105764, 142.36802736939012), (142.48058609962908, 143.17659879796156), (143.16625503386942, 143.8622677322019), (143.89160650779232, 144.5876192061248), (144.84521194996918, 145.54122464830166), (146.57795571414152, 147.273968412474), (148.6521507254794, 149.34816342381188), (149.38770628103495, 150.08371897936743), (150.15342056674925, 150.84943326508173), (151.61518927423225, 152.31120197256473), (152.96362464838188, 153.65963734671436), (154.03437294770163, 154.7303856460341), (158.60253621300774, 159.29854891134022), (159.4849851925996, 160.18099789093208), (160.55786501119368, 161.25387770952617), (161.2792255554114, 161.97523825374387), (162.03147045337056, 162.72748315170304), (162.81001920620503, 163.5060319045375), (163.6133752152753, 164.3093879136078), (166.01464505654516, 166.71065775487764), (166.75287634906218, 167.44888904739466), (167.6424455100599, 168.33845820839238), (169.12548405881273, 169.8214967571452), (169.9022641041642, 170.59827680249668), (170.635325328654, 171.3313380269865), (171.97110764157918, 172.66712033991166), (172.87305775495787, 173.56907045329035), (173.5608128569987, 174.25682555533118), (174.35437294770162, 175.0503856460341), (175.08829585019595, 175.78430854852843), (175.8955067345497, 176.5915194328822), (176.61278564611433, 177.3087983444468), (177.4495656914658, 178.1455783897983), (178.25958836720275, 178.95560106553523), (178.97042736947034, 179.66644006780282)]\n"
     ]
    }
   ],
   "source": [
    "from detection import run as det_run\n",
    "offset = 0\n",
    "duration_step = 3 * 60.0\n",
    "duration = librosa.get_duration(filename=join(path, file))\n",
    "steps = np.int(duration/duration_step)\n",
    "for i in range(100,101):\n",
    "    offset = i * duration_step\n",
    "    data, sr = librosa.load(join(path, file), offset=offset, duration=duration_step)\n",
    "    Ts = 1/sr\n",
    "    N = data.shape[0]  \n",
    "    print('Offset: ', offset)\n",
    "    t = np.arange(offset,Ts*N + i * duration_step,Ts)\n",
    "    print('Len data: ', len(data))\n",
    "    print('Sr: ', sr)\n",
    "    print('Start: ', t[0])\n",
    "    print('End: ', t[-1]) \n",
    "    for j in range(0, len(predictions.classes)):\n",
    "        if (t[0]>= predictions.start[j]) & (t[0]< predictions.end[j]):\n",
    "            part_class = predictions.classes[j]\n",
    "            print('Class: ', part_class)\n",
    "    event_list, data_filt = det_run(data, sr)\n",
    "    print('Event List: ', event_list)"
   ]
  },
  {
   "cell_type": "code",
   "execution_count": 14,
   "metadata": {},
   "outputs": [
    {
     "data": {
      "text/plain": [
       "Text(0, 0.5, 'Amplitude')"
      ]
     },
     "execution_count": 14,
     "metadata": {},
     "output_type": "execute_result"
    },
    {
     "data": {
      "image/png": "[encoded data removed]",
      "text/plain": [
       "<Figure size 1440x432 with 1 Axes>"
      ]
     },
     "metadata": {
      "needs_background": "light"
     },
     "output_type": "display_data"
    }
   ],
   "source": [
    "t_set = np.arange(0,Ts*N,Ts)\n",
    "x = 10000\n",
    "fig, ax = plt.subplots(1, 1, figsize=(20,6))\n",
    "ax.plot(t_set[:x], data[:x])\n",
    "ax.plot(t_set[:x], data_filt[:x]*10)\n",
    "ax.grid(True)\n",
    "ax.set_xlabel('Time [s]', fontsize=14)\n",
    "ax.set_ylabel('Amplitude', fontsize=14)\n",
    "#for idx in range(len(event_list)):\n",
    "#        plt.axvspan(event_list[idx][0], event_list[idx][1], color='orange', alpha=0.2, lw=0)"
   ]
  },
  {
   "cell_type": "code",
   "execution_count": 16,
   "metadata": {},
   "outputs": [
    {
     "name": "stderr",
     "output_type": "stream",
     "text": [
      "/tmp/ipykernel_9902/1333869084.py:5: DeprecationWarning: `np.int` is a deprecated alias for the builtin `int`. To silence this warning, use `int` by itself. Doing this will not modify any behavior and is safe. When replacing `np.int`, you may wish to use e.g. `np.int64` or `np.int32` to specify the precision. If you wish to review your current use, check the release note link for additional information.\n",
      "Deprecated in NumPy 1.20; for more details and guidance: https://numpy.org/devdocs/release/1.20.0-notes.html#deprecations\n",
      "  steps = np.int(duration/duration_step)\n"
     ]
    },
    {
     "name": "stdout",
     "output_type": "stream",
     "text": [
      "Offset:  1440.0\n",
      "Len data:  3969000\n",
      "Sr:  22050\n",
      "Start:  1440.0\n",
      "End:  1619.9999549553168\n",
      "Class:  Rumination\n",
      "Events detected and saved\n",
      "Class List:  [1, 1, 1, 1, 1, 1, 1, 1, 0, 0, 1, 1, 1, 1, 1, 1, 1, 1, 1, 0, 1, 1, 1, 1, 1, 1, 1, 1, 1, 0, 1, 1, 1, 1, 1, 1, 1, 0, 1, 1, 1, 1, 1, 1, 1, 1, 1, 1, 1, 1, 1, 1, 1, 1, 1, 1, 1, 1, 1, 1, 1, 1, 1, 1, 1, 1, 1, 1, 1, 1, 1, 1, 1, 1, 1, 1, 1, 1, 1, 1, 1, 1, 1, 1, 1, 1, 1, 1, 1, 1, 1, 1, 1, 1, 1, 1, 1, 1, 1, 1, 1, 1, 1, 1, 1, 1, 1, 1, 1, 1, 1, 0, 0, 1, 1, 0, 1, 2, 1, 1, 1, 1, 1, 1, 1, 1, 1, 1, 1, 1, 1, 1, 1, 1, 1, 1, 1, 1, 1, 1, 1, 1, 1, 1, 1, 0, 2, 1, 1, 1, 1, 1, 1, 1, 1, 1, 1, 1, 1, 1, 1, 1, 1, 1, 1, 1, 1, 1, 1, 1, 1, 1, 1, 1, 0, 1, 0, 1, 1]\n"
     ]
    }
   ],
   "source": [
    "from classification import run as class_run\n",
    "offset = 0\n",
    "duration_step = 3 * 60.0\n",
    "duration = librosa.get_duration(filename=join(path, file))\n",
    "steps = np.int(duration/duration_step)\n",
    "for i in range(8,9):\n",
    "    offset = i * duration_step\n",
    "    data, sr = librosa.load(join(path, file), offset=offset, duration=duration_step)\n",
    "    Ts = 1/sr\n",
    "    N = data.shape[0]  \n",
    "    print('Offset: ', offset)\n",
    "    t = np.arange(offset,Ts*N + i * duration_step,Ts)\n",
    "    print('Len data: ', len(data))\n",
    "    print('Sr: ', sr)\n",
    "    print('Start: ', t[0])\n",
    "    print('End: ', t[-1]) \n",
    "    for j in range(0, len(predictions.classes)):\n",
    "        if (t[0]>= predictions.start[j]) & (t[0]< predictions.end[j]):\n",
    "            part_class = predictions.classes[j]\n",
    "            print('Class: ', part_class)\n",
    "    event_list, data_filt = det_run(data, sr)\n",
    "    #print('Event List: ', event_list)\n",
    "    t_set = np.arange(0,Ts*N,Ts)\n",
    "    output_list = class_run(data,event_list, sr, t_set)\n",
    "    print('Class List: ', output_list)\n",
    "\n",
    "    "
   ]
  },
  {
   "cell_type": "code",
   "execution_count": 35,
   "metadata": {},
   "outputs": [],
   "source": [
    "output_array = np.array(output_list)\n"
   ]
  },
  {
   "cell_type": "code",
   "execution_count": 43,
   "metadata": {},
   "outputs": [],
   "source": [
    "total_events = []\n",
    "perc_bite = []\n",
    "perc_chew = []\n",
    "perc_chewbite = []\n",
    "part_classes = []"
   ]
  },
  {
   "cell_type": "code",
   "execution_count": 46,
   "metadata": {},
   "outputs": [],
   "source": [
    "events = len(output_array)\n",
    "total_events.append(len(output_array))\n",
    "perc_bite.append(len(np.where(output_array == 0)[0])/events)\n",
    "perc_chew.append(len(np.where(output_array  == 1)[0])/events)\n",
    "perc_chewbite.append(len(np.where(output_array  == 2)[0])/events)\n",
    "part_classes.append(part_class)"
   ]
  },
  {
   "cell_type": "code",
   "execution_count": 42,
   "metadata": {},
   "outputs": [],
   "source": [
    "df = pd.DataFrame({'events' : [], 'perc_bite' : [], 'perc_chew' : [], 'perc_chewbite' : [], 'class' : []})"
   ]
  },
  {
   "cell_type": "code",
   "execution_count": 47,
   "metadata": {},
   "outputs": [],
   "source": [
    "df['events']= total_events"
   ]
  },
  {
   "cell_type": "markdown",
   "metadata": {},
   "source": [
    "### Train model"
   ]
  },
  {
   "cell_type": "code",
   "execution_count": 89,
   "metadata": {},
   "outputs": [],
   "source": [
    "df = pd.read_csv('./predict/act_alimentaria/out_clas_alim.csv', sep=',', header=0)"
   ]
  },
  {
   "cell_type": "code",
   "execution_count": 90,
   "metadata": {},
   "outputs": [],
   "source": [
    "df['class'].replace(['Rumination', 'Grazing', 'End', 'noclass'], [0, 1, 2, 3], inplace= True)"
   ]
  },
  {
   "cell_type": "code",
   "execution_count": 91,
   "metadata": {},
   "outputs": [],
   "source": [
    "from sklearn.neural_network import MLPClassifier\n",
    "from sklearn.tree import DecisionTreeClassifier\n",
    "from sklearn.ensemble import RandomForestClassifier\n",
    "from sklearn.preprocessing import StandardScaler\n",
    "from sklearn.pipeline import make_pipeline\n",
    "\n",
    "from sklearn.metrics import classification_report\n",
    "from sklearn.metrics import confusion_matrix, ConfusionMatrixDisplay\n",
    "from sklearn.model_selection import train_test_split\n",
    "from sklearn.metrics import balanced_accuracy_score"
   ]
  },
  {
   "cell_type": "code",
   "execution_count": 92,
   "metadata": {},
   "outputs": [],
   "source": [
    "df = df.drop(df[df['class'] == 3].index)"
   ]
  },
  {
   "cell_type": "code",
   "execution_count": 93,
   "metadata": {},
   "outputs": [],
   "source": [
    "df = df.drop(df[df['class'] == 2].index)"
   ]
  },
  {
   "cell_type": "code",
   "execution_count": 94,
   "metadata": {},
   "outputs": [],
   "source": [
    "X_train = df[['events' , 'perc_bite', 'perc_chew' , 'perc_chewbite']]\n",
    "y_train = df['class']"
   ]
  },
  {
   "cell_type": "code",
   "execution_count": 100,
   "metadata": {},
   "outputs": [
    {
     "data": {
      "text/plain": [
       "7      0\n",
       "8      0\n",
       "9      0\n",
       "10     0\n",
       "11     0\n",
       "      ..\n",
       "115    0\n",
       "116    0\n",
       "117    0\n",
       "118    0\n",
       "119    0\n",
       "Name: class, Length: 91, dtype: int64"
      ]
     },
     "execution_count": 100,
     "metadata": {},
     "output_type": "execute_result"
    }
   ],
   "source": []
  },
  {
   "cell_type": "code",
   "execution_count": 95,
   "metadata": {},
   "outputs": [
    {
     "name": "stdout",
     "output_type": "stream",
     "text": [
      "1.000 balanced accuracy\n"
     ]
    }
   ],
   "source": [
    "# Genera una nueva particion desde el conjunto de train\n",
    "X_train_opt, X_optim, y_train_opt, y_optim = train_test_split(X_train,\n",
    "                                                              y_train,\n",
    "                                                              test_size=0.33,\n",
    "                                                              random_state=42)\n",
    "\n",
    "    \n",
    "# Se define el modelo\n",
    "model = make_pipeline(\n",
    "                          StandardScaler(),\n",
    "                          #DecisionTreeClassifier(max_depth=5, min_samples_leaf=1),\n",
    "                          #MLPClassifier(random_state=42, max_iter=2000, early_stopping=False, n_iter_no_change=100)\n",
    "                          RandomForestClassifier(n_estimators=1, random_state=42)\n",
    "                     )\n",
    "\n",
    "# Se entrena el modelo\n",
    "model.fit(X_train_opt, y_train_opt)\n",
    "\n",
    "# Se prueba con la partición de optimización\n",
    "y_pred_optim = model.predict(X_optim)\n",
    "\n",
    "sc = balanced_accuracy_score(y_optim, y_pred_optim)\n",
    "print(f\"{sc:.3f} balanced accuracy\")"
   ]
  },
  {
   "cell_type": "code",
   "execution_count": 96,
   "metadata": {},
   "outputs": [
    {
     "data": {
      "text/plain": [
       "62     1\n",
       "44     1\n",
       "77     0\n",
       "117    0\n",
       "7      0\n",
       "48     1\n",
       "61     1\n",
       "88     0\n",
       "17     0\n",
       "66     1\n",
       "114    0\n",
       "57     1\n",
       "99     0\n",
       "84     0\n",
       "34     1\n",
       "11     0\n",
       "40     1\n",
       "50     1\n",
       "71     1\n",
       "86     0\n",
       "37     1\n",
       "89     0\n",
       "106    0\n",
       "52     1\n",
       "55     1\n",
       "18     0\n",
       "87     0\n",
       "90     0\n",
       "53     1\n",
       "105    0\n",
       "16     0\n",
       "Name: class, dtype: int64"
      ]
     },
     "execution_count": 96,
     "metadata": {},
     "output_type": "execute_result"
    }
   ],
   "source": [
    "y_optim"
   ]
  },
  {
   "cell_type": "code",
   "execution_count": 97,
   "metadata": {},
   "outputs": [
    {
     "name": "stdout",
     "output_type": "stream",
     "text": [
      "              precision    recall  f1-score   support\n",
      "\n",
      "  Rumination       1.00      1.00      1.00        17\n",
      "     Grazing       1.00      1.00      1.00        14\n",
      "\n",
      "    accuracy                           1.00        31\n",
      "   macro avg       1.00      1.00      1.00        31\n",
      "weighted avg       1.00      1.00      1.00        31\n",
      "\n"
     ]
    }
   ],
   "source": [
    "# Reporte de clasificación\n",
    "report = classification_report(y_optim,\n",
    "                               y_pred_optim, \n",
    "                               target_names=['Rumination', 'Grazing'])\n",
    "\n",
    "print(report)"
   ]
  },
  {
   "cell_type": "code",
   "execution_count": 99,
   "metadata": {},
   "outputs": [
    {
     "data": {
      "image/png": "[encoded data removed]",
      "text/plain": [
       "<Figure size 432x288 with 2 Axes>"
      ]
     },
     "metadata": {
      "needs_background": "light"
     },
     "output_type": "display_data"
    }
   ],
   "source": [
    "# matriz de confusión\n",
    "cm = confusion_matrix(y_optim, y_pred_optim)\n",
    "ConfusionMatrixDisplay(cm,\n",
    "                       display_labels=['Rumination', 'Grazing']).plot()\n",
    "plt.grid(False)\n",
    "plt.show()"
   ]
  },
  {
   "cell_type": "code",
   "execution_count": 121,
   "metadata": {},
   "outputs": [],
   "source": [
    "start = []\n",
    "end = []\n",
    "label = []\n",
    "for i in y_optim.index:\n",
    "    start.append(i * 3 * 60.0)\n",
    "    end.append(i * 3 * 60.0 + 3*60.0)\n",
    "    if y_optim[i] == 0:\n",
    "        label.append('Rumination')\n",
    "    else:\n",
    "        label.append('Grazing')"
   ]
  },
  {
   "cell_type": "code",
   "execution_count": 122,
   "metadata": {},
   "outputs": [],
   "source": [
    "df = pd.DataFrame({'start' : [], 'end' : [], 'class' : []})\n"
   ]
  },
  {
   "cell_type": "code",
   "execution_count": 123,
   "metadata": {},
   "outputs": [],
   "source": [
    "df['start'] = start\n",
    "df['end'] = end\n",
    "df['label'] = label"
   ]
  },
  {
   "cell_type": "code",
   "execution_count": 125,
   "metadata": {},
   "outputs": [],
   "source": [
    "df.sort_values(by=['start'], inplace=True)"
   ]
  },
  {
   "cell_type": "code",
   "execution_count": 126,
   "metadata": {},
   "outputs": [
    {
     "data": {
      "text/html": [
       "<div>\n",
       "<style scoped>\n",
       "    .dataframe tbody tr th:only-of-type {\n",
       "        vertical-align: middle;\n",
       "    }\n",
       "\n",
       "    .dataframe tbody tr th {\n",
       "        vertical-align: top;\n",
       "    }\n",
       "\n",
       "    .dataframe thead th {\n",
       "        text-align: right;\n",
       "    }\n",
       "</style>\n",
       "<table border=\"1\" class=\"dataframe\">\n",
       "  <thead>\n",
       "    <tr style=\"text-align: right;\">\n",
       "      <th></th>\n",
       "      <th>start</th>\n",
       "      <th>end</th>\n",
       "      <th>class</th>\n",
       "      <th>label</th>\n",
       "    </tr>\n",
       "  </thead>\n",
       "  <tbody>\n",
       "    <tr>\n",
       "      <th>4</th>\n",
       "      <td>1260.0</td>\n",
       "      <td>1440.0</td>\n",
       "      <td>NaN</td>\n",
       "      <td>Rumination</td>\n",
       "    </tr>\n",
       "    <tr>\n",
       "      <th>15</th>\n",
       "      <td>1980.0</td>\n",
       "      <td>2160.0</td>\n",
       "      <td>NaN</td>\n",
       "      <td>Rumination</td>\n",
       "    </tr>\n",
       "    <tr>\n",
       "      <th>30</th>\n",
       "      <td>2880.0</td>\n",
       "      <td>3060.0</td>\n",
       "      <td>NaN</td>\n",
       "      <td>Rumination</td>\n",
       "    </tr>\n",
       "    <tr>\n",
       "      <th>8</th>\n",
       "      <td>3060.0</td>\n",
       "      <td>3240.0</td>\n",
       "      <td>NaN</td>\n",
       "      <td>Rumination</td>\n",
       "    </tr>\n",
       "    <tr>\n",
       "      <th>25</th>\n",
       "      <td>3240.0</td>\n",
       "      <td>3420.0</td>\n",
       "      <td>NaN</td>\n",
       "      <td>Rumination</td>\n",
       "    </tr>\n",
       "    <tr>\n",
       "      <th>14</th>\n",
       "      <td>6120.0</td>\n",
       "      <td>6300.0</td>\n",
       "      <td>NaN</td>\n",
       "      <td>Grazing</td>\n",
       "    </tr>\n",
       "    <tr>\n",
       "      <th>20</th>\n",
       "      <td>6660.0</td>\n",
       "      <td>6840.0</td>\n",
       "      <td>NaN</td>\n",
       "      <td>Grazing</td>\n",
       "    </tr>\n",
       "    <tr>\n",
       "      <th>16</th>\n",
       "      <td>7200.0</td>\n",
       "      <td>7380.0</td>\n",
       "      <td>NaN</td>\n",
       "      <td>Grazing</td>\n",
       "    </tr>\n",
       "    <tr>\n",
       "      <th>1</th>\n",
       "      <td>7920.0</td>\n",
       "      <td>8100.0</td>\n",
       "      <td>NaN</td>\n",
       "      <td>Grazing</td>\n",
       "    </tr>\n",
       "    <tr>\n",
       "      <th>5</th>\n",
       "      <td>8640.0</td>\n",
       "      <td>8820.0</td>\n",
       "      <td>NaN</td>\n",
       "      <td>Grazing</td>\n",
       "    </tr>\n",
       "    <tr>\n",
       "      <th>17</th>\n",
       "      <td>9000.0</td>\n",
       "      <td>9180.0</td>\n",
       "      <td>NaN</td>\n",
       "      <td>Grazing</td>\n",
       "    </tr>\n",
       "    <tr>\n",
       "      <th>23</th>\n",
       "      <td>9360.0</td>\n",
       "      <td>9540.0</td>\n",
       "      <td>NaN</td>\n",
       "      <td>Grazing</td>\n",
       "    </tr>\n",
       "    <tr>\n",
       "      <th>28</th>\n",
       "      <td>9540.0</td>\n",
       "      <td>9720.0</td>\n",
       "      <td>NaN</td>\n",
       "      <td>Grazing</td>\n",
       "    </tr>\n",
       "    <tr>\n",
       "      <th>24</th>\n",
       "      <td>9900.0</td>\n",
       "      <td>10080.0</td>\n",
       "      <td>NaN</td>\n",
       "      <td>Grazing</td>\n",
       "    </tr>\n",
       "    <tr>\n",
       "      <th>11</th>\n",
       "      <td>10260.0</td>\n",
       "      <td>10440.0</td>\n",
       "      <td>NaN</td>\n",
       "      <td>Grazing</td>\n",
       "    </tr>\n",
       "    <tr>\n",
       "      <th>6</th>\n",
       "      <td>10980.0</td>\n",
       "      <td>11160.0</td>\n",
       "      <td>NaN</td>\n",
       "      <td>Grazing</td>\n",
       "    </tr>\n",
       "    <tr>\n",
       "      <th>0</th>\n",
       "      <td>11160.0</td>\n",
       "      <td>11340.0</td>\n",
       "      <td>NaN</td>\n",
       "      <td>Grazing</td>\n",
       "    </tr>\n",
       "    <tr>\n",
       "      <th>9</th>\n",
       "      <td>11880.0</td>\n",
       "      <td>12060.0</td>\n",
       "      <td>NaN</td>\n",
       "      <td>Grazing</td>\n",
       "    </tr>\n",
       "    <tr>\n",
       "      <th>18</th>\n",
       "      <td>12780.0</td>\n",
       "      <td>12960.0</td>\n",
       "      <td>NaN</td>\n",
       "      <td>Grazing</td>\n",
       "    </tr>\n",
       "    <tr>\n",
       "      <th>2</th>\n",
       "      <td>13860.0</td>\n",
       "      <td>14040.0</td>\n",
       "      <td>NaN</td>\n",
       "      <td>Rumination</td>\n",
       "    </tr>\n",
       "    <tr>\n",
       "      <th>13</th>\n",
       "      <td>15120.0</td>\n",
       "      <td>15300.0</td>\n",
       "      <td>NaN</td>\n",
       "      <td>Rumination</td>\n",
       "    </tr>\n",
       "    <tr>\n",
       "      <th>19</th>\n",
       "      <td>15480.0</td>\n",
       "      <td>15660.0</td>\n",
       "      <td>NaN</td>\n",
       "      <td>Rumination</td>\n",
       "    </tr>\n",
       "    <tr>\n",
       "      <th>26</th>\n",
       "      <td>15660.0</td>\n",
       "      <td>15840.0</td>\n",
       "      <td>NaN</td>\n",
       "      <td>Rumination</td>\n",
       "    </tr>\n",
       "    <tr>\n",
       "      <th>7</th>\n",
       "      <td>15840.0</td>\n",
       "      <td>16020.0</td>\n",
       "      <td>NaN</td>\n",
       "      <td>Rumination</td>\n",
       "    </tr>\n",
       "    <tr>\n",
       "      <th>21</th>\n",
       "      <td>16020.0</td>\n",
       "      <td>16200.0</td>\n",
       "      <td>NaN</td>\n",
       "      <td>Rumination</td>\n",
       "    </tr>\n",
       "    <tr>\n",
       "      <th>27</th>\n",
       "      <td>16200.0</td>\n",
       "      <td>16380.0</td>\n",
       "      <td>NaN</td>\n",
       "      <td>Rumination</td>\n",
       "    </tr>\n",
       "    <tr>\n",
       "      <th>12</th>\n",
       "      <td>17820.0</td>\n",
       "      <td>18000.0</td>\n",
       "      <td>NaN</td>\n",
       "      <td>Rumination</td>\n",
       "    </tr>\n",
       "    <tr>\n",
       "      <th>29</th>\n",
       "      <td>18900.0</td>\n",
       "      <td>19080.0</td>\n",
       "      <td>NaN</td>\n",
       "      <td>Rumination</td>\n",
       "    </tr>\n",
       "    <tr>\n",
       "      <th>22</th>\n",
       "      <td>19080.0</td>\n",
       "      <td>19260.0</td>\n",
       "      <td>NaN</td>\n",
       "      <td>Rumination</td>\n",
       "    </tr>\n",
       "    <tr>\n",
       "      <th>10</th>\n",
       "      <td>20520.0</td>\n",
       "      <td>20700.0</td>\n",
       "      <td>NaN</td>\n",
       "      <td>Rumination</td>\n",
       "    </tr>\n",
       "    <tr>\n",
       "      <th>3</th>\n",
       "      <td>21060.0</td>\n",
       "      <td>21240.0</td>\n",
       "      <td>NaN</td>\n",
       "      <td>Rumination</td>\n",
       "    </tr>\n",
       "  </tbody>\n",
       "</table>\n",
       "</div>"
      ],
      "text/plain": [
       "      start      end  class       label\n",
       "4    1260.0   1440.0    NaN  Rumination\n",
       "15   1980.0   2160.0    NaN  Rumination\n",
       "30   2880.0   3060.0    NaN  Rumination\n",
       "8    3060.0   3240.0    NaN  Rumination\n",
       "25   3240.0   3420.0    NaN  Rumination\n",
       "14   6120.0   6300.0    NaN     Grazing\n",
       "20   6660.0   6840.0    NaN     Grazing\n",
       "16   7200.0   7380.0    NaN     Grazing\n",
       "1    7920.0   8100.0    NaN     Grazing\n",
       "5    8640.0   8820.0    NaN     Grazing\n",
       "17   9000.0   9180.0    NaN     Grazing\n",
       "23   9360.0   9540.0    NaN     Grazing\n",
       "28   9540.0   9720.0    NaN     Grazing\n",
       "24   9900.0  10080.0    NaN     Grazing\n",
       "11  10260.0  10440.0    NaN     Grazing\n",
       "6   10980.0  11160.0    NaN     Grazing\n",
       "0   11160.0  11340.0    NaN     Grazing\n",
       "9   11880.0  12060.0    NaN     Grazing\n",
       "18  12780.0  12960.0    NaN     Grazing\n",
       "2   13860.0  14040.0    NaN  Rumination\n",
       "13  15120.0  15300.0    NaN  Rumination\n",
       "19  15480.0  15660.0    NaN  Rumination\n",
       "26  15660.0  15840.0    NaN  Rumination\n",
       "7   15840.0  16020.0    NaN  Rumination\n",
       "21  16020.0  16200.0    NaN  Rumination\n",
       "27  16200.0  16380.0    NaN  Rumination\n",
       "12  17820.0  18000.0    NaN  Rumination\n",
       "29  18900.0  19080.0    NaN  Rumination\n",
       "22  19080.0  19260.0    NaN  Rumination\n",
       "10  20520.0  20700.0    NaN  Rumination\n",
       "3   21060.0  21240.0    NaN  Rumination"
      ]
     },
     "execution_count": 126,
     "metadata": {},
     "output_type": "execute_result"
    }
   ],
   "source": [
    "df"
   ]
  },
  {
   "cell_type": "code",
   "execution_count": null,
   "metadata": {},
   "outputs": [],
   "source": []
  }
 ],
 "metadata": {
  "interpreter": {
   "hash": "a8d7140740cd055988a56cd0643cbf848345bf809a95c20a1e9cdde2437799b8"
  },
  "kernelspec": {
   "display_name": "Python 3.8.3 64-bit ('Inteligencia_Artificial_Embebida-0H74C2lr': virtualenv)",
   "language": "python",
   "name": "python3"
  },
  "language_info": {
   "codemirror_mode": {
    "name": "ipython",
    "version": 3
   },
   "file_extension": ".py",
   "mimetype": "text/x-python",
   "name": "python",
   "nbconvert_exporter": "python",
   "pygments_lexer": "ipython3",
   "version": "3.8.10"
  },
  "orig_nbformat": 4
 },
 "nbformat": 4,
 "nbformat_minor": 2
}
