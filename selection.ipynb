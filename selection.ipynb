{
 "cells": [
  {
   "cell_type": "code",
   "execution_count": 1,
   "metadata": {},
   "outputs": [],
   "source": [
    "import librosa\n",
    "import numpy as np\n",
    "import pandas as pd\n",
    "import matplotlib.pyplot as plt\n",
    "import scipy\n",
    "from os.path import join\n",
    "from scipy import signal\n",
    "import gc\n",
    "gc.collect()\n",
    "from pathlib import Path\n",
    "import ffmpeg"
   ]
  },
  {
   "cell_type": "markdown",
   "metadata": {},
   "source": [
    "### Lectura de datos"
   ]
  },
  {
   "cell_type": "code",
   "execution_count": 4,
   "metadata": {},
   "outputs": [],
   "source": [
    "path = r'C:\\Users\\alfon\\Desktop\\Projects (On Going)\\02. Posgrado CEIA\\08. Bimestre VIII\\Inteligencia Artificial Embebida\\Encuentros\\Encuentro - 08\\Audios\\Rumia y pastoreo'  # 'recording_01_SOX.wav'\n",
    "file = 'actividad_alimentaria.wav'\n",
    "labels = 'actividad_alimentaria.txt'"
   ]
  },
  {
   "cell_type": "code",
   "execution_count": 5,
   "metadata": {},
   "outputs": [],
   "source": [
    "# Leo archivo wav\n",
    "import scipy.io.wavfile as wavfile\n",
    "\n",
    "fs, data_raw = wavfile.read(join(path, file), False)  # Frecuencia de muestreo + Amplitud\n",
    "\n",
    "# Ts = 1/fs\n",
    "# N = data_raw.shape[0]  # Número de muestras\n",
    "# t = np.arange(0,Ts*N,Ts)  # Vector de tiempos --> Python toma hasta N-1\n",
    "# columns=['start','end','class']\n",
    "# data_labels = pd.read_csv(join(path, labels), sep='\\t', header=None, names = columns)\n",
    "# data = data_raw.astype(np.float32)"
   ]
  },
  {
   "cell_type": "code",
   "execution_count": 6,
   "metadata": {},
   "outputs": [
    {
     "data": {
      "text/plain": [
       "963076608"
      ]
     },
     "execution_count": 6,
     "metadata": {},
     "output_type": "execute_result"
    }
   ],
   "source": [
    "len(data_raw)"
   ]
  },
  {
   "cell_type": "code",
   "execution_count": null,
   "metadata": {},
   "outputs": [],
   "source": []
  }
 ],
 "metadata": {
  "interpreter": {
   "hash": "a8d7140740cd055988a56cd0643cbf848345bf809a95c20a1e9cdde2437799b8"
  },
  "kernelspec": {
   "display_name": "Python 3.8.3 64-bit ('Inteligencia_Artificial_Embebida-0H74C2lr': virtualenv)",
   "language": "python",
   "name": "python3"
  },
  "language_info": {
   "codemirror_mode": {
    "name": "ipython",
    "version": 3
   },
   "file_extension": ".py",
   "mimetype": "text/x-python",
   "name": "python",
   "nbconvert_exporter": "python",
   "pygments_lexer": "ipython3",
   "version": "3.8.3"
  },
  "orig_nbformat": 4
 },
 "nbformat": 4,
 "nbformat_minor": 2
}
